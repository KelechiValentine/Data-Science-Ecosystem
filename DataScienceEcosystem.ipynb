{
  "metadata": {
    "kernelspec": {
      "name": "python",
      "display_name": "Python (Pyodide)",
      "language": "python"
    },
    "language_info": {
      "codemirror_mode": {
        "name": "python",
        "version": 3
      },
      "file_extension": ".py",
      "mimetype": "text/x-python",
      "name": "python",
      "nbconvert_exporter": "python",
      "pygments_lexer": "ipython3",
      "version": "3.8"
    }
  },
  "nbformat_minor": 5,
  "nbformat": 4,
  "cells": [
    {
      "id": "aa1d920a-6bb4-4dd4-ad9f-02839d448530",
      "cell_type": "markdown",
      "source": "# Data Science Tools and Ecosystem",
      "metadata": {}
    },
    {
      "id": "14b684a9-6bc6-4309-b88f-07036596dd8c",
      "cell_type": "markdown",
      "source": "In this notebook, Data Science Tools and Ecosystem are summarized.",
      "metadata": {}
    },
    {
      "id": "2036ae33-c408-4dce-8aa9-dbb2f6a07f67",
      "cell_type": "markdown",
      "source": "**Objectives:**\n+ List popular languages for Data Science\n* List commonly used libraries used by Data Scientists\n- Perform simple arithmetic expression in python ",
      "metadata": {}
    },
    {
      "id": "d1d3873b-1e8d-47b7-94f4-140453af8376",
      "cell_type": "markdown",
      "source": "Some of the popular languages that Data Scientists use are:\n1. Python\n2. R\n3. Java\n4. SQL\n5. C++",
      "metadata": {}
    },
    {
      "id": "659c0fb5-10d8-461e-82c1-75d46e58b3a9",
      "cell_type": "markdown",
      "source": "Some of the commonly used libraries used by Data Scientists include:\n1. Tensorflow\n2. ggplot\n3. Numpy\n4. Matplotlip\n5. Scikit-learn",
      "metadata": {}
    },
    {
      "id": "c2bb857f-308d-4efe-9c63-ebf5d6be6772",
      "cell_type": "markdown",
      "source": "|Data Science Tools|\n|------------------|\n|Jupyter Notebook|\n|Visual Studio code|\n|Git & Github|",
      "metadata": {}
    },
    {
      "id": "e8a5d5ba-8d02-45f8-b8ef-6c0fdfd0393d",
      "cell_type": "markdown",
      "source": "### Below are a few examples of evaluating arithmetic expressions in Python",
      "metadata": {}
    },
    {
      "id": "44193cee-7892-4c65-821a-81de3dacc2bd",
      "cell_type": "code",
      "source": "# This a simple arithmetic expression to mutiply then add integers\nresult = (3*4)+5\nprint(result)",
      "metadata": {
        "trusted": true
      },
      "outputs": [
        {
          "name": "stdout",
          "output_type": "stream",
          "text": "17\n"
        }
      ],
      "execution_count": 2
    },
    {
      "id": "a9a4be18-1894-4ad9-a4ac-4c01194b455b",
      "cell_type": "code",
      "source": "#This will convert 200 minutes to hours by diving by 60\nhrs = 200/60\nprint(hrs)",
      "metadata": {
        "trusted": true
      },
      "outputs": [
        {
          "name": "stdout",
          "output_type": "stream",
          "text": "3.3333333333333335\n"
        }
      ],
      "execution_count": 3
    },
    {
      "id": "2ceab5de-e0ed-47d1-8aba-04594c7788c0",
      "cell_type": "markdown",
      "source": "## **Author**\n**EZEAKACHI KELECHI VALENTINE** ",
      "metadata": {}
    }
  ]
}